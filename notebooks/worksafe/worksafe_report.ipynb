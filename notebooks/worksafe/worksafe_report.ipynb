{
 "cells": [
  {
   "cell_type": "markdown",
   "id": "c3df8af1",
   "metadata": {},
   "source": [
    "# WorkSafe and Motor Vehicle audit report"
   ]
  },
  {
   "cell_type": "code",
   "execution_count": 2,
   "id": "109d2535",
   "metadata": {},
   "outputs": [],
   "source": [
    "import os\n",
    "import psycopg2\n",
    "import pandas as pd\n",
    "import csv\n",
    "import matplotlib\n",
    "from datetime import datetime, timedelta\n",
    "from IPython.core.display import HTML\n",
    "\n",
    "%load_ext sql\n",
    "%config SqlMagic.displaylimit = 5"
   ]
  },
  {
   "cell_type": "markdown",
   "id": "e59628cc",
   "metadata": {},
   "source": [
    "This will create the connection to the database and prep the jupyter magic for SQL\n",
    "\n"
   ]
  },
  {
   "cell_type": "code",
   "execution_count": 19,
   "id": "99a16904",
   "metadata": {},
   "outputs": [],
   "source": [
    "connect_to_db = 'postgresql://' + \\\n",
    "                os.getenv('DB_USER', '') + \":\" + os.getenv('DB_PASS', '') +'@' + \\\n",
    "                os.getenv('DB_HOST', '') + ':' + os.getenv('DB_PORT', '5432') + '/' + os.getenv('DB_NAME', '');\n",
    "    \n",
    "%sql $connect_to_db"
   ]
  },
  {
   "cell_type": "markdown",
   "id": "172b3ab9",
   "metadata": {},
   "source": [
    "Simplest query to run to ensure our libraries are loaded and our DB connection is working\n",
    "\n"
   ]
  },
  {
   "cell_type": "code",
   "execution_count": 20,
   "id": "2acf2584",
   "metadata": {},
   "outputs": [],
   "source": [
    "%%sql \n",
    "select now() AT TIME ZONE 'PST' as current_date"
   ]
  },
  {
   "cell_type": "code",
   "execution_count": 21,
   "id": "8b4bb48f",
   "metadata": {},
   "outputs": [],
   "source": [
    "%%sql worksafe_corp_audit  <<\n",
    "select b.identifier,f.filing_type,f.transaction_id,f.filing_date at time zone 'America/Vancouver'\n",
    "from filings    f\n",
    "    ,businesses b\n",
    "where f.business_id=b.id\n",
    "  and b.identifier in ('BC1381431', 'S0044626', 'S0034315','BC0786328','BC0455835','FM0329275','FM0326476','FM0165333','FM0232910','FM0556598','BC0443045'\n",
    "                      ,'BC0812666','BC0613715', 'S0037540','BC0047143','BC0937794','BC1182816','FM0753730','BC1118811','BC1196208','BC0842217','BC0559626'\n",
    "                      ,'BC1162353','BC0961510','BC0282129','BC1307937', 'A0120144','BC0527597','BC0842217','BC1155160')\n",
    "  and to_char(filing_date at time zone 'America/Vancouver','yyyymmdd') = to_char(now() at time zone 'America/Vancouver' - interval '1 day','yyyymmdd')\n"
   ]
  },
  {
   "cell_type": "code",
   "execution_count": 1,
   "id": "9af5578d",
   "metadata": {},
   "outputs": [],
   "source": [
    "corp_audit = worksafe_corp_audit.DataFrame()\n",
    "\n",
    "datestr = datetime.strftime(datetime.now()-timedelta(1), '%Y-%m-%d')\n",
    "filename =  os.path.join(os.getcwd(), r'data/')+'worksafe_audit_' + datestr +'.csv'\n",
    "\n",
    "with open(filename, 'w') as f:\n",
    "    if corp_audit.empty:\n",
    "        f.write('No Data Retrieved for any corp of ineterest ' + datestr)         \n",
    "    else:  \n",
    "        f.write('WorkSafe: Audit of businesses for malicious activity ' + datestr + ':\\n')            \n",
    "        corp_audit.to_csv(f, sep=',', encoding='utf-8', index=False)  "
   ]
  },
  {
   "cell_type": "code",
   "execution_count": 22,
   "id": "923084d7",
   "metadata": {},
   "outputs": [],
   "source": [
    "%%sql worksafe_name_audit  <<\n",
    "\n",
    "select b.identifier,f.filing_type,f.transaction_id,f.filing_date at time zone 'America/Vancouver',p.first_name,p.last_name\n",
    "from parties_version p\n",
    "    ,filings         f\n",
    "    ,businesses      b\n",
    "where\n",
    "(\n",
    "   (upper(last_name) = 'GALLO'    and  upper(first_name) like 'AN%')\n",
    "or (upper(last_name) = 'GALLO'    and  upper(first_name) like 'DE%')\n",
    "or (upper(last_name) = 'BLOOR'    and  upper(first_name) like 'BR%')\n",
    "or (upper(last_name) = 'HOLLER'   and (upper(first_name) like 'AN%' or  upper(first_name) = 'TONY'))\n",
    "or (upper(last_name) = 'MCMILLAN' and  upper(first_name) like 'ST%')\n",
    "or (upper(last_name) = 'LABONTE'  and  upper(first_name) like 'NO%')\n",
    "or (upper(last_name) = 'THOMPSON' and  upper(first_name) like 'AM%')\n",
    "or (upper(last_name) = 'SWANSON'  and  upper(first_name) like 'LI%')\n",
    "or (upper(last_name) = 'TRONSON'  and  upper(first_name) like 'MA%')\n",
    "or (upper(last_name) = 'MYERS'    and  upper(first_name) like 'SU%')\n",
    ")\n",
    "and p.transaction_id=f.transaction_id\n",
    "and f.business_id=b.id\n",
    "and to_char(filing_date at time zone 'America/Vancouver','yyyymmdd') = to_char(now() at time zone 'America/Vancouver' - interval '1 day','yyyymmdd')"
   ]
  },
  {
   "cell_type": "code",
   "execution_count": null,
   "id": "764cd53e",
   "metadata": {},
   "outputs": [],
   "source": [
    "name_audit = worksafe_name_audit.DataFrame()\n",
    "\n",
    "with open(filename, 'a') as f:  \n",
    "    if name_audit.empty:\n",
    "        f.write('No Data Retrieved for Names audit ' + datestr)         \n",
    "    else: \n",
    "        f.write('WorkSafe: Audit of people for malicious activity ' + datestr + ':\\n')  \n",
    "        name_audit.to_csv(f, sep=',', encoding='utf-8', index=False) \n",
    "    f.write('\\n\\n')  "
   ]
  },
  {
   "cell_type": "code",
   "execution_count": 23,
   "id": "c1ec73f5",
   "metadata": {},
   "outputs": [],
   "source": [
    "%%sql worksafe_name_audit2  <<\n",
    "\n",
    "select username,firstname,lastname,transaction_id,creation_date at time zone 'America/Vancouver'\n",
    "from users_version u\n",
    "where\n",
    "(\n",
    "   (upper(lastname) = 'GALLO'    and  upper(firstname) like 'AN%')\n",
    "or (upper(lastname) = 'GALLO'    and  upper(firstname) like 'DE%')\n",
    "or (upper(lastname) = 'BLOOR'    and  upper(firstname) like 'BR%')\n",
    "or (upper(lastname) = 'HOLLER'   and (upper(firstname) like 'AN%' or  upper(firstname) = 'TONY'))\n",
    "or (upper(lastname) = 'MCMILLAN' and  upper(firstname) like 'ST%')\n",
    "or (upper(lastname) = 'LABONTE'  and  upper(firstname) like 'NO%')\n",
    "or (upper(lastname) = 'THOMPSON' and  upper(firstname) like 'AM%')\n",
    "or (upper(lastname) = 'SWANSON'  and  upper(firstname) like 'LI%')\n",
    "or (upper(lastname) = 'TRONSON'  and  upper(firstname) like 'MA%')\n",
    "or (upper(lastname) = 'MYERS'    and  upper(firstname) like 'SU%')\n",
    ")\n",
    "and to_char(creation_date at time zone 'America/Vancouver','yyyymmdd') = to_char(now() at time zone 'America/Vancouver' - interval '1 day','yyyymmdd')"
   ]
  },
  {
   "cell_type": "code",
   "execution_count": null,
   "id": "063137ed",
   "metadata": {},
   "outputs": [],
   "source": [
    "name_audit2 = worksafe_name_audit2.DataFrame()\n",
    "\n",
    "with open(filename, 'a') as f:  \n",
    "    if name_audit2.empty:\n",
    "        f.write('No Data Retrieved for Names audit ' + datestr)         \n",
    "    else: \n",
    "        f.write('WorkSafe: Audit of people for malicious activity ' + datestr + ':\\n')  \n",
    "        name_audit2.to_csv(f, sep=',', encoding='utf-8', index=False) \n",
    "    f.write('\\n\\n')  "
   ]
  },
  {
   "cell_type": "code",
   "execution_count": 24,
   "id": "418480f6",
   "metadata": {},
   "outputs": [],
   "source": [
    "%%sql motor_vehicle_audit  <<\n",
    "\n",
    "select b.identifier,f.filing_type,f.transaction_id,f.filing_date at time zone 'America/Vancouver'\n",
    "from filings    f\n",
    "    ,businesses b\n",
    "where f.business_id=b.id\n",
    "  and b.identifier = 'BC1367734'\n",
    "  and to_char(filing_date at time zone 'America/Vancouver','yyyymmdd') = to_char(now() at time zone 'America/Vancouver' - interval '1 day','yyyymmdd')"
   ]
  },
  {
   "cell_type": "code",
   "execution_count": null,
   "id": "f37ba840",
   "metadata": {},
   "outputs": [],
   "source": [
    "motor_vehicle_audit = motor_vehicle_audit.DataFrame()\n",
    "\n",
    "with open(filename, 'a') as f:  \n",
    "    if motor_vehicle_audit.empty:\n",
    "        f.write('No Data Retrieved for motor vehicle audit ' + datestr)         \n",
    "    else: \n",
    "        f.write('Motor Vehicle: Audit of businesses for malicious activity ' + datestr + ':\\n')  \n",
    "        motor_vehicle_audit.to_csv(f, sep=',', encoding='utf-8', index=False) \n",
    "    f.write('\\n\\n')  "
   ]
  },
  {
   "cell_type": "code",
   "execution_count": 25,
   "id": "93cb1bfe",
   "metadata": {},
   "outputs": [],
   "source": [
    "%%sql motor_vehicle_name_audit1  <<\n",
    "\n",
    "select b.identifier,f.filing_type,f.transaction_id,f.filing_date at time zone 'America/Vancouver',p.first_name,p.last_name\n",
    "from parties_version p\n",
    "    ,filings         f\n",
    "    ,businesses      b\n",
    "where\n",
    "(\n",
    "   (upper(last_name) = 'TEPERTO'  and  upper(first_name) like 'MI%')\n",
    "or (upper(last_name) = 'THOMSON'  and  upper(first_name) like 'CA%')\n",
    ")\n",
    "and p.transaction_id=f.transaction_id\n",
    "and f.business_id=b.id\n",
    "and to_char(filing_date at time zone 'America/Vancouver','yyyymmdd') = to_char(now() at time zone 'America/Vancouver' - interval '1 day','yyyymmdd')"
   ]
  },
  {
   "cell_type": "code",
   "execution_count": null,
   "id": "ddfc41aa",
   "metadata": {},
   "outputs": [],
   "source": [
    "motor_vehicle_name_audit1 = motor_vehicle_name_audit1.DataFrame()\n",
    "\n",
    "with open(filename, 'a') as f:  \n",
    "    if motor_vehicle_name_audit1.empty:\n",
    "        f.write('No Data Retrieved for motor vehicle name audit ' + datestr)         \n",
    "    else: \n",
    "        f.write('Motor Vehicle: Audit of people for malicious activity ' + datestr + ':\\n')  \n",
    "        motor_vehicle_name_audit1.to_csv(f, sep=',', encoding='utf-8', index=False) \n",
    "    f.write('\\n\\n')  "
   ]
  },
  {
   "cell_type": "code",
   "execution_count": 26,
   "id": "9353937b",
   "metadata": {},
   "outputs": [],
   "source": [
    "%%sql motor_vehicle_name_audit2  <<\n",
    "\n",
    "select username,firstname,lastname,transaction_id,creation_date at time zone 'America/Vancouver'\n",
    "from users_version u\n",
    "where\n",
    "(\n",
    "   (upper(lastname) = 'TEPERTO'  and  upper(firstname) like 'MI%')\n",
    "or (upper(lastname) = 'THOMSON'  and  upper(firstname) like 'CA%')\n",
    ")\n",
    "and to_char(creation_date at time zone 'America/Vancouver','yyyymmdd') = to_char(now() at time zone 'America/Vancouver' - interval '1 day','yyyymmdd')"
   ]
  },
  {
   "cell_type": "code",
   "execution_count": null,
   "id": "7f6b95a1",
   "metadata": {},
   "outputs": [],
   "source": [
    "motor_vehicle_name_audit2 = motor_vehicle_name_audit2.DataFrame()\n",
    "\n",
    "with open(filename, 'a') as f:  \n",
    "    if motor_vehicle_name_audit2.empty:\n",
    "        f.write('No Data Retrieved for motor vehicle name audit ' + datestr)         \n",
    "    else: \n",
    "        f.write('Motor Vehicle: Audit of people for malicious activity ' + datestr + ':\\n')  \n",
    "        motor_vehicle_name_audit2.to_csv(f, sep=',', encoding='utf-8', index=False) \n",
    "    f.write('\\n\\n')  "
   ]
  },
  {
   "cell_type": "code",
   "execution_count": 27,
   "id": "152072a7",
   "metadata": {},
   "outputs": [],
   "source": [
    "%%sql rcmp_audit  <<\n",
    "\n",
    "select b.identifier,f.filing_type,f.transaction_id,f.filing_date at time zone 'America/Vancouver'\n",
    "from filings    f\n",
    "    ,businesses b\n",
    "where f.business_id=b.id\n",
    "  and b.identifier = 'BC1374478'\n",
    "  and to_char(filing_date at time zone 'America/Vancouver','yyyymmdd') = to_char(now() at time zone 'America/Vancouver' - interval '1 day','yyyymmdd')"
   ]
  },
  {
   "cell_type": "code",
   "execution_count": null,
   "id": "b0f84fbc",
   "metadata": {},
   "outputs": [],
   "source": [
    "rcmp_audit = rcmp_audit.DataFrame()\n",
    "\n",
    "with open(filename, 'a') as f:  \n",
    "    if rcmp_audit.empty:\n",
    "        f.write('No Data Retrieved for RCMP audit ' + datestr)         \n",
    "    else: \n",
    "        f.write('Richmond RCMP: Audit of businesses for malicious activity (file 2023-1790) ' + datestr + ':\\n')  \n",
    "        rcmp_audit.to_csv(f, sep=',', encoding='utf-8', index=False) \n",
    "    f.write('\\n\\n')  "
   ]
  }
 ],
 "metadata": {
  "kernelspec": {
   "display_name": "Python 3 (ipykernel)",
   "language": "python",
   "name": "python3"
  },
  "language_info": {
   "codemirror_mode": {
    "name": "ipython",
    "version": 3
   },
   "file_extension": ".py",
   "mimetype": "text/x-python",
   "name": "python",
   "nbconvert_exporter": "python",
   "pygments_lexer": "ipython3",
   "version": "3.9.13"
  }
 },
 "nbformat": 4,
 "nbformat_minor": 5
}
