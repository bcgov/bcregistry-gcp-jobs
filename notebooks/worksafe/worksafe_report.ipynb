{
 "cells": [
  {
   "cell_type": "markdown",
   "id": "c3df8af1",
   "metadata": {},
   "source": [
    "# WorkSafe and Motor Vehicle audit report"
   ]
  },
  {
   "cell_type": "code",
   "execution_count": null,
   "id": "109d2535",
   "metadata": {},
   "outputs": [],
   "source": [
    "import os\n",
    "import pandas as pd\n",
    "import csv\n",
    "import matplotlib\n",
    "from datetime import datetime, timedelta\n",
    "from IPython.core.display import HTML\n",
    "from cloud_sql_connector import DBConfig, getconn\n",
    "import pg8000\n",
    "import sqlalchemy\n",
    "\n",
    "%load_ext sql\n",
    "%config SqlMagic.displaylimit = 5"
   ]
  },
  {
   "cell_type": "code",
   "execution_count": null,
   "id": "169990f5",
   "metadata": {},
   "outputs": [],
   "source": [
    "# Initialize DBConfig for Cloud SQL connection\n",
    "config = DBConfig(\n",
    "    instance_name=os.getenv('DB_INSTANCE_CONNECTION_NAME'),  # Cloud SQL instance connection name\n",
    "    database=os.getenv('DB_NAME'),\n",
    "    user=os.getenv('DB_USER'),\n",
    "    ip_type=\"public\",  # or \"private\" depending on your setup\n",
    "    schema=\"business\"  # Set the schema directly in config\n",
    ")\n",
    "\n",
    "def get_conn():\n",
    "    \"\"\"Create a connection to Google Cloud SQL using the custom cloud-sql-connector.\"\"\"\n",
    "    return getconn(config)"
   ]
  },
  {
   "cell_type": "markdown",
   "id": "a413adc1",
   "metadata": {},
   "source": [
    "## Database Connection Setup\n",
    "\n",
    "This notebook now uses the custom bcgov cloud-sql-connector library to connect to the database in GCP. \n",
    "\n",
    "Required environment variables:\n",
    "- `DB_USER`: Database username\n",
    "- `DB_NAME`: Database name  \n",
    "- `DB_INSTANCE_CONNECTION_NAME`: Cloud SQL instance connection name (format: `project:region:instance`)\n",
    "\n",
    "The connection automatically uses the `business` schema and handles IAM authentication through the custom connector."
   ]
  },
  {
   "cell_type": "markdown",
   "id": "e59628cc",
   "metadata": {},
   "source": [
    "This will create the connection to the Cloud SQL database using the custom bcgov cloud-sql-connector and prep the jupyter magic for SQL"
   ]
  },
  {
   "cell_type": "code",
   "execution_count": null,
   "id": "99a16904",
   "metadata": {},
   "outputs": [],
   "source": [
    "# Create SQLAlchemy engine using custom cloud-sql-connector\n",
    "engine = sqlalchemy.create_engine(\n",
    "    \"postgresql+pg8000://\",\n",
    "    creator=get_conn,\n",
    ")\n",
    "\n",
    "print(\"Custom cloud-sql-connector engine created successfully!\")\n",
    "print(f\"Engine: {engine}\")\n",
    "\n",
    "# Test the connection\n",
    "try:\n",
    "    with engine.connect() as connection:\n",
    "        result = connection.execute(sqlalchemy.text(\"SELECT 1 as test\"))\n",
    "        print(\"✅ Database connection test successful!\")\n",
    "        print(f\"Test result: {result.fetchone()}\")\n",
    "except Exception as e:\n",
    "    print(f\"❌ Connection failed: {e}\")"
   ]
  },
  {
   "cell_type": "markdown",
   "id": "b51394f2",
   "metadata": {},
   "source": [
    "WorkSafe: Audit of businesses for malicious activity"
   ]
  },
  {
   "cell_type": "code",
   "execution_count": null,
   "id": "8b4bb48f",
   "metadata": {},
   "outputs": [],
   "source": [
    "# WorkSafe: Audit of businesses for malicious activity\n",
    "query = \"\"\"\n",
    "SELECT b.identifier, f.filing_type, f.transaction_id, \n",
    "       f.filing_date AT TIME ZONE 'America/Vancouver' as filing_date\n",
    "FROM business.filings f, business.businesses b\n",
    "WHERE f.business_id = b.id\n",
    "  AND b.identifier IN ('BC1381431', 'S0044626', 'S0034315','BC0786328','BC0455835','FM0329275','FM0326476','FM0165333','FM0232910','FM0556598','BC0443045',\n",
    "                       'BC0812666','BC0613715', 'S0037540','BC0047143','BC0937794','BC1182816','FM0753730','BC1118811','BC1196208','BC0842217','BC0559626',\n",
    "                       'BC1162353','BC0961510','BC0282129','BC1307937', 'A0120144','BC0527597','BC0842217','BC1155160')\n",
    "  AND TO_CHAR(filing_date AT TIME ZONE 'America/Vancouver','yyyymmdd') = TO_CHAR(now() AT TIME ZONE 'America/Vancouver' - INTERVAL '1 day','yyyymmdd')\n",
    "\"\"\"\n",
    "\n",
    "try:\n",
    "    worksafe_corp_audit = pd.read_sql(query, engine)\n",
    "    print(f\"✅ WorkSafe corp audit query successful! Found {len(worksafe_corp_audit)} rows\")\n",
    "    if not worksafe_corp_audit.empty:\n",
    "        display(worksafe_corp_audit.head())\n",
    "except Exception as e:\n",
    "    print(f\"❌ WorkSafe corp audit query failed: {e}\")\n",
    "    worksafe_corp_audit = pd.DataFrame()  # Create empty DataFrame for error handling\n"
   ]
  },
  {
   "cell_type": "code",
   "execution_count": null,
   "id": "9af5578d",
   "metadata": {},
   "outputs": [],
   "source": [
    "corp_audit = worksafe_corp_audit.copy()  # Use the DataFrame from the previous query\n",
    "\n",
    "datestr = datetime.strftime(datetime.now()-timedelta(1), '%Y-%m-%d')\n",
    "filename =  os.path.join(os.getcwd(), r'data/')+'worksafe_audit_' + datestr +'.csv'\n",
    "\n",
    "with open(filename, 'w') as f:\n",
    "    if corp_audit.empty:\n",
    "        f.write('No Data Retrieved for WorkSafe businesses of interest ' + datestr)         \n",
    "    else:  \n",
    "        f.write('WorkSafe: Audit of businesses for malicious activity ' + datestr + ':\\n')            \n",
    "        corp_audit.to_csv(f, sep=',', encoding='utf-8', index=False) \n",
    "    f.write('\\n\\n') "
   ]
  },
  {
   "cell_type": "markdown",
   "id": "9a215aef",
   "metadata": {},
   "source": [
    "WorkSafe: Audit of people for malicious activity\n",
    "Names to watch out for: Andrew GALLO, Dean GALLO, Brandie BLOOR, Anthony HOLLER, Stephanie MCMILLAN, Norman LABONTE, Amber THOMPSON, Lindsay SWANSON, Marie TRONSON, Susan MYERS"
   ]
  },
  {
   "cell_type": "code",
   "execution_count": null,
   "id": "923084d7",
   "metadata": {},
   "outputs": [],
   "source": [
    "# WorkSafe: Audit of people for malicious activity (Parties table)\n",
    "query = \"\"\"\n",
    "SELECT b.identifier, f.filing_type, f.transaction_id, \n",
    "       f.filing_date AT TIME ZONE 'America/Vancouver' as filing_date, \n",
    "       p.first_name, p.last_name\n",
    "FROM business.parties_version p, business.filings f, business.businesses b\n",
    "WHERE (\n",
    "       (UPPER(first_name) = 'BRANDIE' AND UPPER(last_name) = 'BLOOR')\n",
    "    OR (UPPER(first_name) = 'NORMAN' AND UPPER(last_name) = 'LABONTE')\n",
    "    OR (UPPER(first_name) = 'NORM' AND UPPER(last_name) = 'LABONTE')\n",
    "    OR (UPPER(first_name) = 'DEAN' AND UPPER(last_name) = 'GALLO')\n",
    "    OR (UPPER(first_name) = 'MARK' AND UPPER(last_name) = 'FORREST')\n",
    ")\n",
    "AND p.transaction_id = f.transaction_id\n",
    "AND f.business_id = b.id\n",
    "AND TO_CHAR(filing_date AT TIME ZONE 'America/Vancouver','yyyymmdd') = TO_CHAR(now() AT TIME ZONE 'America/Vancouver' - INTERVAL '1 day','yyyymmdd')\n",
    "\"\"\"\n",
    "\n",
    "try:\n",
    "    worksafe_name_audit = pd.read_sql(query, engine)\n",
    "    print(f\"✅ WorkSafe name audit query successful! Found {len(worksafe_name_audit)} rows\")\n",
    "    if not worksafe_name_audit.empty:\n",
    "        display(worksafe_name_audit.head())\n",
    "except Exception as e:\n",
    "    print(f\"❌ WorkSafe name audit query failed: {e}\")\n",
    "    worksafe_name_audit = pd.DataFrame()  # Create empty DataFrame for error handling\n"
   ]
  },
  {
   "cell_type": "code",
   "execution_count": null,
   "id": "764cd53e",
   "metadata": {},
   "outputs": [],
   "source": [
    "name_audit = worksafe_name_audit.copy()  # Use the DataFrame from the previous query\n",
    "\n",
    "with open(filename, 'a') as f:  \n",
    "    if name_audit.empty:\n",
    "        f.write('No Data Retrieved for WorkSafe names of interest from Parties table ' + datestr)         \n",
    "    else: \n",
    "        f.write('WorkSafe: Audit of people for malicious activity from Parties table ' + datestr + ':\\n')  \n",
    "        name_audit.to_csv(f, sep=',', encoding='utf-8', index=False) \n",
    "    f.write('\\n\\n')  "
   ]
  },
  {
   "cell_type": "code",
   "execution_count": null,
   "id": "c1ec73f5",
   "metadata": {},
   "outputs": [],
   "source": [
    "# WorkSafe: Audit of people for malicious activity (Users table)\n",
    "query = \"\"\"\n",
    "SELECT username, firstname, lastname, transaction_id, \n",
    "       creation_date AT TIME ZONE 'America/Vancouver' as creation_date\n",
    "FROM business.users_version u\n",
    "WHERE (\n",
    "       (UPPER(firstname) = 'BRANDIE' AND UPPER(lastname) = 'BLOOR')\n",
    "    OR (UPPER(firstname) = 'NORMAN' AND UPPER(lastname) = 'LABONTE')\n",
    "    OR (UPPER(firstname) = 'NORM' AND UPPER(lastname) = 'LABONTE')\n",
    "    OR (UPPER(firstname) = 'DEAN' AND UPPER(lastname) = 'GALLO')\n",
    "    OR (UPPER(firstname) = 'MARK' AND UPPER(lastname) = 'FORREST')\n",
    ")\n",
    "AND TO_CHAR(creation_date AT TIME ZONE 'America/Vancouver','yyyymmdd') = TO_CHAR(now() AT TIME ZONE 'America/Vancouver' - INTERVAL '1 day','yyyymmdd')\n",
    "\"\"\"\n",
    "\n",
    "try:\n",
    "    worksafe_name_audit2 = pd.read_sql(query, engine)\n",
    "    print(f\"✅ WorkSafe name audit (users) query successful! Found {len(worksafe_name_audit2)} rows\")\n",
    "    if not worksafe_name_audit2.empty:\n",
    "        display(worksafe_name_audit2.head())\n",
    "except Exception as e:\n",
    "    print(f\"❌ WorkSafe name audit (users) query failed: {e}\")\n",
    "    worksafe_name_audit2 = pd.DataFrame()  # Create empty DataFrame for error handling\n",
    "\n"
   ]
  },
  {
   "cell_type": "code",
   "execution_count": null,
   "id": "063137ed",
   "metadata": {},
   "outputs": [],
   "source": [
    "name_audit2 = worksafe_name_audit2.copy()  # Use the DataFrame from the previous query\n",
    "\n",
    "with open(filename, 'a') as f:  \n",
    "    if name_audit2.empty:\n",
    "        f.write('No Data Retrieved for WorkSafe names of interest from Users table ' + datestr)         \n",
    "    else: \n",
    "        f.write('WorkSafe: Audit of people for malicious activity from Users table ' + datestr + ':\\n')  \n",
    "        name_audit2.to_csv(f, sep=',', encoding='utf-8', index=False) \n",
    "    f.write('\\n\\n')  "
   ]
  },
  {
   "cell_type": "markdown",
   "id": "4d73ca1e",
   "metadata": {},
   "source": [
    "'Motor Vehicle: Audit of businesses for malicious activity'"
   ]
  },
  {
   "cell_type": "code",
   "execution_count": null,
   "id": "418480f6",
   "metadata": {},
   "outputs": [],
   "source": [
    "# Motor Vehicle: Audit of businesses for malicious activity\n",
    "query = \"\"\"\n",
    "SELECT b.identifier, f.filing_type, f.transaction_id, \n",
    "       f.filing_date AT TIME ZONE 'America/Vancouver' as filing_date\n",
    "FROM business.filings f, business.businesses b\n",
    "WHERE f.business_id = b.id\n",
    "  AND b.identifier = 'BC1367734'\n",
    "  AND TO_CHAR(filing_date AT TIME ZONE 'America/Vancouver','yyyymmdd') = TO_CHAR(now() AT TIME ZONE 'America/Vancouver' - INTERVAL '1 day','yyyymmdd')\n",
    "\"\"\"\n",
    "\n",
    "try:\n",
    "    motor_vehicle_audit = pd.read_sql(query, engine)\n",
    "    print(f\"✅ Motor Vehicle audit query successful! Found {len(motor_vehicle_audit)} rows\")\n",
    "    if not motor_vehicle_audit.empty:\n",
    "        display(motor_vehicle_audit.head())\n",
    "except Exception as e:\n",
    "    print(f\"❌ Motor Vehicle audit query failed: {e}\")\n",
    "    motor_vehicle_audit = pd.DataFrame()  # Create empty DataFrame for error handling\n"
   ]
  },
  {
   "cell_type": "code",
   "execution_count": null,
   "id": "f37ba840",
   "metadata": {},
   "outputs": [],
   "source": [
    "motor_vehicle_audit_result = motor_vehicle_audit.copy()  # Use the DataFrame from the previous query\n",
    "\n",
    "with open(filename, 'a') as f:  \n",
    "    if motor_vehicle_audit_result.empty:\n",
    "        f.write('No Data Retrieved for Motor Vehicle businesses of interest ' + datestr)         \n",
    "    else: \n",
    "        f.write('Motor Vehicle: Audit of businesses for malicious activity ' + datestr + ':\\n')  \n",
    "        motor_vehicle_audit_result.to_csv(f, sep=',', encoding='utf-8', index=False) \n",
    "    f.write('\\n\\n')  "
   ]
  },
  {
   "cell_type": "markdown",
   "id": "1a78c045",
   "metadata": {},
   "source": [
    "'Motor Vehicle: Audit of people for malicious activity' \n",
    "\n",
    "'Names to watch out for: Mike TEPERTO, Caitlyn THOMSON'\n"
   ]
  },
  {
   "cell_type": "code",
   "execution_count": null,
   "id": "93cb1bfe",
   "metadata": {},
   "outputs": [],
   "source": [
    "# Motor Vehicle: Audit of people for malicious activity (Parties table)\n",
    "query = \"\"\"\n",
    "SELECT b.identifier, f.filing_type, f.transaction_id, \n",
    "       f.filing_date AT TIME ZONE 'America/Vancouver' as filing_date, \n",
    "       p.first_name, p.last_name\n",
    "FROM business.parties_version p, business.filings f, business.businesses b\n",
    "WHERE (\n",
    "       (UPPER(last_name) = 'TEPERTO' AND UPPER(first_name) LIKE 'MI%')\n",
    "    OR (UPPER(last_name) = 'THOMSON' AND UPPER(first_name) LIKE 'CA%')\n",
    ")\n",
    "AND p.transaction_id = f.transaction_id\n",
    "AND f.business_id = b.id\n",
    "AND TO_CHAR(filing_date AT TIME ZONE 'America/Vancouver','yyyymmdd') = TO_CHAR(now() AT TIME ZONE 'America/Vancouver' - INTERVAL '1 day','yyyymmdd')\n",
    "ORDER BY filing_date DESC\n",
    "\"\"\"\n",
    "\n",
    "try:\n",
    "    motor_vehicle_name_audit1 = pd.read_sql(query, engine)\n",
    "    print(f\"✅ Motor Vehicle name audit (parties) query successful! Found {len(motor_vehicle_name_audit1)} rows\")\n",
    "    if not motor_vehicle_name_audit1.empty:\n",
    "        display(motor_vehicle_name_audit1.head())\n",
    "except Exception as e:\n",
    "    print(f\"❌ Motor Vehicle name audit (parties) query failed: {e}\")\n",
    "    motor_vehicle_name_audit1 = pd.DataFrame()  # Create empty DataFrame for error handling\n"
   ]
  },
  {
   "cell_type": "code",
   "execution_count": null,
   "id": "ddfc41aa",
   "metadata": {},
   "outputs": [],
   "source": [
    "motor_vehicle_name_audit1_result = motor_vehicle_name_audit1.copy()  # Use the DataFrame from the previous query\n",
    "\n",
    "with open(filename, 'a') as f:  \n",
    "    if motor_vehicle_name_audit1_result.empty:\n",
    "        f.write('No Data Retrieved for Motor Vehicle names of interest from Parties table ' + datestr)         \n",
    "    else: \n",
    "        f.write('Motor Vehicle: Audit of people for malicious activity from Parties table ' + datestr + ':\\n')  \n",
    "        motor_vehicle_name_audit1_result.to_csv(f, sep=',', encoding='utf-8', index=False) \n",
    "    f.write('\\n\\n')  "
   ]
  },
  {
   "cell_type": "code",
   "execution_count": null,
   "id": "9353937b",
   "metadata": {},
   "outputs": [],
   "source": [
    "# Motor Vehicle: Audit of people for malicious activity (Users table)\n",
    "query = \"\"\"\n",
    "SELECT username, firstname, lastname, transaction_id, \n",
    "       creation_date AT TIME ZONE 'America/Vancouver' as creation_date\n",
    "FROM business.users_version u\n",
    "WHERE (\n",
    "       (UPPER(lastname) = 'TEPERTO' AND UPPER(firstname) LIKE 'MI%')\n",
    "    OR (UPPER(lastname) = 'THOMSON' AND UPPER(firstname) LIKE 'CA%')\n",
    ")\n",
    "AND TO_CHAR(creation_date AT TIME ZONE 'America/Vancouver','yyyymmdd') = TO_CHAR(now() AT TIME ZONE 'America/Vancouver' - INTERVAL '1 day','yyyymmdd')\n",
    "\"\"\"\n",
    "\n",
    "try:\n",
    "    motor_vehicle_name_audit2 = pd.read_sql(query, engine)\n",
    "    print(f\"✅ Motor Vehicle name audit (users) query successful! Found {len(motor_vehicle_name_audit2)} rows\")\n",
    "    if not motor_vehicle_name_audit2.empty:\n",
    "        display(motor_vehicle_name_audit2.head())\n",
    "except Exception as e:\n",
    "    print(f\"❌ Motor Vehicle name audit (users) query failed: {e}\")\n",
    "    motor_vehicle_name_audit2 = pd.DataFrame()  # Create empty DataFrame for error handling\n"
   ]
  },
  {
   "cell_type": "code",
   "execution_count": null,
   "id": "7f6b95a1",
   "metadata": {},
   "outputs": [],
   "source": [
    "motor_vehicle_name_audit2_result = motor_vehicle_name_audit2.copy()  # Use the DataFrame from the previous query\n",
    "\n",
    "with open(filename, 'a') as f:  \n",
    "    if motor_vehicle_name_audit2_result.empty:\n",
    "        f.write('No Data Retrieved for Motor Vehicle names of interest from Users table ' + datestr)         \n",
    "    else: \n",
    "        f.write('Motor Vehicle: Audit of people for malicious activity from Users table ' + datestr + ':\\n')  \n",
    "        motor_vehicle_name_audit2_result.to_csv(f, sep=',', encoding='utf-8', index=False) \n",
    "    f.write('\\n\\n')  "
   ]
  },
  {
   "cell_type": "markdown",
   "id": "9ba503b8",
   "metadata": {},
   "source": [
    "'Richmond RCMP: Audit of businesses for malicious activity (file 2023-1790)"
   ]
  },
  {
   "cell_type": "code",
   "execution_count": null,
   "id": "152072a7",
   "metadata": {},
   "outputs": [],
   "source": [
    "# Richmond RCMP: Audit of businesses for malicious activity (file 2023-1790)\n",
    "query = \"\"\"\n",
    "SELECT b.identifier, f.filing_type, f.transaction_id, \n",
    "       f.filing_date AT TIME ZONE 'America/Vancouver' as filing_date\n",
    "FROM business.filings f, business.businesses b\n",
    "WHERE f.business_id = b.id\n",
    "  AND b.identifier = 'BC1374478'\n",
    "  AND TO_CHAR(filing_date AT TIME ZONE 'America/Vancouver','yyyymmdd') = TO_CHAR(now() AT TIME ZONE 'America/Vancouver' - INTERVAL '1 day','yyyymmdd')\n",
    "\"\"\"\n",
    "\n",
    "try:\n",
    "    rcmp_audit = pd.read_sql(query, engine)\n",
    "    print(f\"✅ RCMP audit query successful! Found {len(rcmp_audit)} rows\")\n",
    "    if not rcmp_audit.empty:\n",
    "        display(rcmp_audit.head())\n",
    "except Exception as e:\n",
    "    print(f\"❌ RCMP audit query failed: {e}\")\n",
    "    rcmp_audit = pd.DataFrame()  # Create empty DataFrame for error handling\n"
   ]
  },
  {
   "cell_type": "code",
   "execution_count": null,
   "id": "b0f84fbc",
   "metadata": {},
   "outputs": [],
   "source": [
    "rcmp_audit_result = rcmp_audit.copy()  # Use the DataFrame from the previous query\n",
    "\n",
    "with open(filename, 'a') as f:  \n",
    "    if rcmp_audit_result.empty:\n",
    "        f.write('No Data Retrieved for RCMP businesses of interest ' + datestr)         \n",
    "    else: \n",
    "        f.write('Richmond RCMP: Audit of businesses for malicious activity (file 2023-1790) ' + datestr + ':\\n')  \n",
    "        rcmp_audit_result.to_csv(f, sep=',', encoding='utf-8', index=False) \n"
   ]
  }
 ],
 "metadata": {
  "kernelspec": {
   "display_name": ".venv",
   "language": "python",
   "name": "python3"
  },
  "language_info": {
   "codemirror_mode": {
    "name": "ipython",
    "version": 3
   },
   "file_extension": ".py",
   "mimetype": "text/x-python",
   "name": "python",
   "nbconvert_exporter": "python",
   "pygments_lexer": "ipython3",
   "version": "3.13.4"
  }
 },
 "nbformat": 4,
 "nbformat_minor": 5
}
