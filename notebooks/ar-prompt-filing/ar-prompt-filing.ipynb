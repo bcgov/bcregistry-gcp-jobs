{
 "cells": [
  {
   "cell_type": "markdown",
   "id": "c3df8af1",
   "metadata": {},
   "source": [
    "# AR filings data from LEAR"
   ]
  },
  {
   "cell_type": "code",
   "execution_count": null,
   "id": "109d2535",
   "metadata": {},
   "outputs": [],
   "source": [
    "import os\n",
    "import pandas as pd\n",
    "import csv\n",
    "import matplotlib\n",
    "from datetime import datetime, timedelta\n",
    "from IPython.core.display import HTML\n",
    "from cloud_sql_connector import DBConfig, getconn\n",
    "import pg8000\n",
    "import sqlalchemy\n",
    "\n",
    "%load_ext sql\n",
    "%config SqlMagic.displaylimit = 5"
   ]
  },
  {
   "cell_type": "markdown",
   "id": "e59628cc",
   "metadata": {},
   "source": [
    "## Database Connection Setup\n",
    "\n",
    "This notebook now uses the custom bcgov cloud-sql-connector library to connect to the database in GCP. \n",
    "\n",
    "Required environment variables:\n",
    "- `DB_USER`: Database username\n",
    "- `DB_NAME`: Database name  \n",
    "- `DB_INSTANCE_CONNECTION_NAME`: Cloud SQL instance connection name (format: `project:region:instance`)\n",
    "\n",
    "The connection automatically uses the `business` schema and handles IAM authentication through the custom connector."
   ]
  },
  {
   "cell_type": "markdown",
   "id": "e6f01123",
   "metadata": {},
   "source": [
    "This will create the connection to the Cloud SQL database using the custom bcgov cloud-sql-connector and prep the jupyter magic for SQL"
   ]
  },
  {
   "cell_type": "code",
   "execution_count": null,
   "id": "6d5a710a",
   "metadata": {},
   "outputs": [],
   "source": [
    "# Initialize DBConfig for Cloud SQL connection\n",
    "config = DBConfig(\n",
    "    instance_name=os.getenv('DB_INSTANCE_CONNECTION_NAME'),  # Cloud SQL instance connection name\n",
    "    database=os.getenv('DB_NAME'),\n",
    "    user=os.getenv('DB_USER'),\n",
    "    ip_type=\"public\",  # or \"private\" depending on your setup\n",
    "    schema=\"business\"  # Set the schema directly in config\n",
    ")\n",
    "\n",
    "def get_conn():\n",
    "    \"\"\"Create a connection to Google Cloud SQL using the custom cloud-sql-connector.\"\"\"\n",
    "    return getconn(config)"
   ]
  },
  {
   "cell_type": "code",
   "execution_count": null,
   "id": "99a16904",
   "metadata": {},
   "outputs": [],
   "source": [
    "# Create SQLAlchemy engine using Cloud SQL connector\n",
    "engine = sqlalchemy.create_engine(\n",
    "    \"postgresql+pg8000://\",\n",
    "    creator=get_conn,\n",
    ")\n",
    "\n",
    "print(\"Cloud SQL engine created successfully!\")\n",
    "print(f\"Engine: {engine}\")\n",
    "\n",
    "# Test the connection\n",
    "try:\n",
    "    with engine.connect() as connection:\n",
    "        result = connection.execute(sqlalchemy.text(\"SELECT 1 as test\"))\n",
    "        print(\"✅ Database connection test successful!\")\n",
    "        print(f\"Test result: {result.fetchone()}\")\n",
    "except Exception as e:\n",
    "    print(f\"❌ Connection failed: {e}\")"
   ]
  },
  {
   "cell_type": "markdown",
   "id": "b92e11a1",
   "metadata": {},
   "source": [
    "AR Filing Sync Failure Detection: Completed filings missing colin_event_ids (sync failures between LEAR and COLIN)"
   ]
  },
  {
   "cell_type": "code",
   "execution_count": null,
   "id": "8b4bb48f",
   "metadata": {},
   "outputs": [],
   "source": [
    "# AR Filings Data Query - Sync Failure Detection\n",
    "query = \"\"\"\n",
    "SELECT b.identifier, f.filing_type, f.id, TO_CHAR(f.filing_date,'DD-MON-YYYY') AS filing_date\n",
    "FROM business.filings f\n",
    "LEFT JOIN business.colin_event_ids c ON f.id = c.filing_id\n",
    "JOIN business.businesses b ON b.id = f.business_id\n",
    "WHERE \n",
    "    c.filing_id IS NULL AND \n",
    "    f.filing_type NOT IN ('lear_epoch', 'adminFreeze', 'courtOrder', 'registrarsNotation', 'registrarsOrder') AND\n",
    "    f.status = 'COMPLETED' AND\n",
    "    b.legal_type NOT IN ('SP', 'GP', 'CP')\n",
    "\"\"\"\n",
    "\n",
    "try:\n",
    "    ar_filings_data = pd.read_sql(query, engine)\n",
    "    print(f\"✅ AR filings data query successful! Found {len(ar_filings_data)} rows\")\n",
    "    if not ar_filings_data.empty:\n",
    "        display(ar_filings_data.head())\n",
    "except Exception as e:\n",
    "    print(f\"❌ AR filings data query failed: {e}\")\n",
    "    ar_filings_data = pd.DataFrame()  # Create empty DataFrame for error handling\n"
   ]
  },
  {
   "cell_type": "code",
   "execution_count": null,
   "id": "9af5578d",
   "metadata": {},
   "outputs": [],
   "source": [
    "corp_audit = ar_filings_data.copy()  # Use the DataFrame from the previous query\n",
    "\n",
    "datestr = datetime.strftime(datetime.now()-timedelta(1), '%Y-%m-%d')\n",
    "filename =  os.path.join(os.getcwd(), r'data/')+'ar_filings_data_' + datestr +'.csv'\n",
    "\n",
    "with open(filename, 'w') as f:\n",
    "    if corp_audit.empty:\n",
    "        f.write('No Data Retrieved for Sync Failure Notification')         \n",
    "    else:  \n",
    "        f.write('Sync Failure Notification ' + ':\\n')            \n",
    "        corp_audit.to_csv(f, sep=',', encoding='utf-8', index=False) \n",
    "    f.write('\\n\\n') "
   ]
  }
 ],
 "metadata": {
  "kernelspec": {
   "display_name": ".venv",
   "language": "python",
   "name": "python3"
  },
  "language_info": {
   "codemirror_mode": {
    "name": "ipython",
    "version": 3
   },
   "file_extension": ".py",
   "mimetype": "text/x-python",
   "name": "python",
   "nbconvert_exporter": "python",
   "pygments_lexer": "ipython3",
   "version": "3.13.4"
  }
 },
 "nbformat": 4,
 "nbformat_minor": 5
}
