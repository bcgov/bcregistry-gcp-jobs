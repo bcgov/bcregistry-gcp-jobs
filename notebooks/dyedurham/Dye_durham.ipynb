{
 "cells": [
  {
   "cell_type": "markdown",
   "id": "5559f5f6",
   "metadata": {},
   "source": [
    "# Dye Durham Filing Statistics Report"
   ]
  },
  {
   "cell_type": "code",
   "execution_count": null,
   "id": "26375105",
   "metadata": {},
   "outputs": [],
   "source": [
    "import os\n",
    "import pandas as pd\n",
    "import csv\n",
    "import matplotlib\n",
    "from datetime import datetime, timedelta\n",
    "from IPython.core.display import HTML\n",
    "from cloud_sql_connector import DBConfig, getconn\n",
    "import pg8000\n",
    "import sqlalchemy\n",
    "\n",
    "%load_ext sql\n",
    "%config SqlMagic.displaylimit = 5"
   ]
  },
  {
   "cell_type": "code",
   "execution_count": null,
   "id": "2018b170",
   "metadata": {},
   "outputs": [],
   "source": [
    "# Initialize DBConfig for Cloud SQL connection\n",
    "config = DBConfig(\n",
    "    instance_name=os.getenv('DB_INSTANCE_CONNECTION_NAME'),  # Cloud SQL instance connection name\n",
    "    database=os.getenv('DB_NAME'),\n",
    "    user=os.getenv('DB_USER'),\n",
    "    ip_type=\"public\",  # or \"private\" depending on your setup\n",
    "    schema=\"business\"  # Set the schema directly in config\n",
    ")\n",
    "\n",
    "def get_conn():\n",
    "    \"\"\"Create a connection to Google Cloud SQL using the custom cloud-sql-connector.\"\"\"\n",
    "    return getconn(config)"
   ]
  },
  {
   "cell_type": "markdown",
   "id": "4ef2cb50",
   "metadata": {},
   "source": [
    "## Database Connection Setup\n",
    "\n",
    "This notebook now uses the custom bcgov cloud-sql-connector library to connect to the database in GCP. \n",
    "\n",
    "Required environment variables:\n",
    "- `DB_USER`: Database username\n",
    "- `DB_NAME`: Database name  \n",
    "- `DB_INSTANCE_CONNECTION_NAME`: Cloud SQL instance connection name (format: `project:region:instance`)\n",
    "\n",
    "The connection automatically uses the `business` schema and handles IAM authentication through the custom connector."
   ]
  },
  {
   "cell_type": "markdown",
   "id": "70c2787d",
   "metadata": {},
   "source": [
    "This will create the connection to the Cloud SQL database using the custom bcgov cloud-sql-connector and prep the jupyter magic for SQL"
   ]
  },
  {
   "cell_type": "code",
   "execution_count": null,
   "id": "d72e2b45",
   "metadata": {},
   "outputs": [],
   "source": [
    "# Create SQLAlchemy engine using custom cloud-sql-connector\n",
    "engine = sqlalchemy.create_engine(\n",
    "    \"postgresql+pg8000://\",\n",
    "    creator=get_conn,\n",
    ")\n",
    "\n",
    "print(\"Custom cloud-sql-connector engine created successfully!\")\n",
    "print(f\"Engine: {engine}\")\n",
    "\n",
    "# Test the connection\n",
    "try:\n",
    "    with engine.connect() as connection:\n",
    "        result = connection.execute(sqlalchemy.text(\"SELECT 1 as test\"))\n",
    "        print(\"✅ Database connection test successful!\")\n",
    "        print(f\"Test result: {result.fetchone()}\")\n",
    "except Exception as e:\n",
    "    print(f\"❌ Connection failed: {e}\")"
   ]
  },
  {
   "cell_type": "markdown",
   "id": "21728cd2",
   "metadata": {},
   "source": [
    "Dye Durham: Filing statistics for CP, SP, and GP entities"
   ]
  },
  {
   "cell_type": "code",
   "execution_count": null,
   "id": "02710841",
   "metadata": {},
   "outputs": [],
   "source": [
    "# Dye Durham Filing Query\n",
    "query = \"\"\"\n",
    "SELECT filing_type AS Filing, COUNT(*) AS Count\n",
    "FROM business.filings f, business.businesses b\n",
    "WHERE f.business_id = b.id\n",
    "  AND b.legal_type IN ('CP','SP','GP') -- Benefit Companies will be included in the email from CPRD\n",
    "  AND filing_type <> 'lear_epoch'\n",
    "  AND TO_CHAR(filing_date AT TIME ZONE 'America/Vancouver','yyyymm') = TO_CHAR(now() AT TIME ZONE 'America/Vancouver' - INTERVAL '27 days','yyyymm')\n",
    "GROUP BY Filing\n",
    "ORDER BY filing\n",
    "\"\"\"\n",
    "\n",
    "try:\n",
    "    dye_durham_filing = pd.read_sql(query, engine)\n",
    "    print(f\"✅ Dye Durham filing query successful! Found {len(dye_durham_filing)} rows\")\n",
    "    if not dye_durham_filing.empty:\n",
    "        display(dye_durham_filing.head())\n",
    "except Exception as e:\n",
    "    print(f\"❌ Dye Durham filing query failed: {e}\")\n",
    "    dye_durham_filing = pd.DataFrame()  # Create empty DataFrame for error handling\n"
   ]
  },
  {
   "cell_type": "code",
   "execution_count": null,
   "id": "ca1a5fb9",
   "metadata": {},
   "outputs": [],
   "source": [
    "dye_durham = dye_durham_filing.copy()  # Use the DataFrame from the previous query\n",
    "datestr = datetime.strftime(datetime.now()-timedelta(1), '%Y-%m-%d')\n",
    "filename =  os.path.join(os.getcwd(), r'data/')+'Dye_and_Durham_' + datestr +'.csv'\n",
    "with open(filename, 'w') as f:  \n",
    "    if dye_durham.empty:\n",
    "        f.write('No Data Retrieved for Dye and Durham filings ' + datestr)         \n",
    "    else: \n",
    "        f.write('Coop, Sole Proprietorship, and General Partnership Filings for ' + datestr + ':\\n')  \n",
    "        dye_durham.to_csv(f, sep=',', encoding='utf-8', index=False) \n",
    "    f.write('\\n\\n')  "
   ]
  },
  {
   "cell_type": "code",
   "execution_count": null,
   "id": "f650c29a",
   "metadata": {},
   "outputs": [],
   "source": [
    "# Dye Durham Total Query\n",
    "query = \"\"\"\n",
    "SELECT 'GRAND TOTAL' AS Total, COUNT(*)\n",
    "FROM business.filings f, business.businesses b\n",
    "WHERE f.business_id = b.id\n",
    "  AND b.legal_type IN ('CP','SP','GP') -- Benefit Companies will be included in the email from CPRD\n",
    "  AND filing_type <> 'lear_epoch'\n",
    "  AND TO_CHAR(filing_date AT TIME ZONE 'America/Vancouver','yyyymm') = TO_CHAR(now() AT TIME ZONE 'America/Vancouver' - INTERVAL '27 days','yyyymm')\n",
    "\"\"\"\n",
    "\n",
    "try:\n",
    "    dye_durham_total = pd.read_sql(query, engine)\n",
    "    print(f\"✅ Dye Durham total query successful! Found {len(dye_durham_total)} rows\")\n",
    "    if not dye_durham_total.empty:\n",
    "        display(dye_durham_total.head())\n",
    "except Exception as e:\n",
    "    print(f\"❌ Dye Durham total query failed: {e}\")\n",
    "    dye_durham_total = pd.DataFrame()  # Create empty DataFrame for error handling\n"
   ]
  },
  {
   "cell_type": "code",
   "execution_count": null,
   "id": "50130f62",
   "metadata": {},
   "outputs": [],
   "source": [
    "dye_durham_total_result = dye_durham_total.copy()  # Use the DataFrame from the previous query\n",
    "\n",
    "with open(filename, 'a') as f:  \n",
    "    if dye_durham_total_result.empty:\n",
    "        f.write('No Data Retrieved for Dye and Durham filings ' + datestr)         \n",
    "    else: \n",
    "        dye_durham_total_result.to_csv(f, sep=',', encoding='utf-8', index=False) \n",
    "    f.write('\\n\\n')  "
   ]
  }
 ],
 "metadata": {
  "kernelspec": {
   "display_name": ".venv",
   "language": "python",
   "name": "python3"
  },
  "language_info": {
   "codemirror_mode": {
    "name": "ipython",
    "version": 3
   },
   "file_extension": ".py",
   "mimetype": "text/x-python",
   "name": "python",
   "nbconvert_exporter": "python",
   "pygments_lexer": "ipython3",
   "version": "3.13.4"
  }
 },
 "nbformat": 4,
 "nbformat_minor": 5
}
